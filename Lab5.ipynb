{
 "cells": [
  {
   "cell_type": "code",
   "execution_count": 1,
   "id": "55b09b39-94a6-44b7-b023-1809ab9b95b2",
   "metadata": {},
   "outputs": [],
   "source": [
    "import numpy as np\n",
    "import matplotlib.pyplot as plt\n",
    "import tensorflow as tf\n",
    "from tensorflow import keras\n",
    "from tensorflow.keras import layers\n",
    "from tensorflow.keras.preprocessing.image import ImageDataGenerator\n",
    "import os\n",
    "from scipy import signal"
   ]
  },
  {
   "cell_type": "code",
   "execution_count": 2,
   "id": "d31a30ba-aaaf-4dbc-9904-ef3fd34c9766",
   "metadata": {},
   "outputs": [
    {
     "name": "stdout",
     "output_type": "stream",
     "text": [
      "Found 38400 images belonging to 2 classes.\n",
      "Found 9600 images belonging to 2 classes.\n"
     ]
    }
   ],
   "source": [
    "# ------------------------------\n",
    "# A1. Load and Preprocess Dataset\n",
    "# ------------------------------\n",
    "data_dir = \"drownsiness_dataset\"  # Update with correct path\n",
    "img_size = (64, 64)\n",
    "batch_size = 32\n",
    "\n",
    "train_datagen = ImageDataGenerator(rescale=1./255, validation_split=0.2)\n",
    "\n",
    "train_generator = train_datagen.flow_from_directory(\n",
    "    data_dir,\n",
    "    target_size=img_size,\n",
    "    batch_size=batch_size,\n",
    "    class_mode='binary',\n",
    "    subset='training'\n",
    ")\n",
    "\n",
    "val_generator = train_datagen.flow_from_directory(\n",
    "    data_dir,\n",
    "    target_size=img_size,\n",
    "    batch_size=batch_size,\n",
    "    class_mode='binary',\n",
    "    subset='validation'\n",
    ")\n"
   ]
  },
  {
   "cell_type": "code",
   "execution_count": 3,
   "id": "b2270c5c-2554-4743-a520-7364657b929f",
   "metadata": {},
   "outputs": [
    {
     "name": "stderr",
     "output_type": "stream",
     "text": [
      "C:\\Users\\venka\\anaconda3\\Lib\\site-packages\\keras\\src\\layers\\convolutional\\base_conv.py:107: UserWarning: Do not pass an `input_shape`/`input_dim` argument to a layer. When using Sequential models, prefer using an `Input(shape)` object as the first layer in the model instead.\n",
      "  super().__init__(activity_regularizer=activity_regularizer, **kwargs)\n"
     ]
    },
    {
     "name": "stdout",
     "output_type": "stream",
     "text": [
      "Epoch 1/10\n"
     ]
    },
    {
     "name": "stderr",
     "output_type": "stream",
     "text": [
      "C:\\Users\\venka\\anaconda3\\Lib\\site-packages\\keras\\src\\trainers\\data_adapters\\py_dataset_adapter.py:122: UserWarning: Your `PyDataset` class should call `super().__init__(**kwargs)` in its constructor. `**kwargs` can include `workers`, `use_multiprocessing`, `max_queue_size`. Do not pass these arguments to `fit()`, as they will be ignored.\n",
      "  self._warn_if_super_not_called()\n"
     ]
    },
    {
     "name": "stdout",
     "output_type": "stream",
     "text": [
      "\u001b[1m1200/1200\u001b[0m \u001b[32m━━━━━━━━━━━━━━━━━━━━\u001b[0m\u001b[37m\u001b[0m \u001b[1m170s\u001b[0m 139ms/step - accuracy: 0.8828 - loss: 0.2655 - val_accuracy: 0.9379 - val_loss: 0.1866\n",
      "Epoch 2/10\n",
      "\u001b[1m1200/1200\u001b[0m \u001b[32m━━━━━━━━━━━━━━━━━━━━\u001b[0m\u001b[37m\u001b[0m \u001b[1m182s\u001b[0m 152ms/step - accuracy: 0.9712 - loss: 0.0846 - val_accuracy: 0.9356 - val_loss: 0.1728\n",
      "Epoch 3/10\n",
      "\u001b[1m1200/1200\u001b[0m \u001b[32m━━━━━━━━━━━━━━━━━━━━\u001b[0m\u001b[37m\u001b[0m \u001b[1m164s\u001b[0m 136ms/step - accuracy: 0.9796 - loss: 0.0582 - val_accuracy: 0.9379 - val_loss: 0.1900\n",
      "Epoch 4/10\n",
      "\u001b[1m1200/1200\u001b[0m \u001b[32m━━━━━━━━━━━━━━━━━━━━\u001b[0m\u001b[37m\u001b[0m \u001b[1m165s\u001b[0m 137ms/step - accuracy: 0.9852 - loss: 0.0447 - val_accuracy: 0.9203 - val_loss: 0.2284\n",
      "Epoch 5/10\n",
      "\u001b[1m1200/1200\u001b[0m \u001b[32m━━━━━━━━━━━━━━━━━━━━\u001b[0m\u001b[37m\u001b[0m \u001b[1m168s\u001b[0m 140ms/step - accuracy: 0.9886 - loss: 0.0343 - val_accuracy: 0.9366 - val_loss: 0.1957\n",
      "Epoch 6/10\n",
      "\u001b[1m1200/1200\u001b[0m \u001b[32m━━━━━━━━━━━━━━━━━━━━\u001b[0m\u001b[37m\u001b[0m \u001b[1m160s\u001b[0m 133ms/step - accuracy: 0.9918 - loss: 0.0274 - val_accuracy: 0.9025 - val_loss: 0.2953\n",
      "Epoch 7/10\n",
      "\u001b[1m1200/1200\u001b[0m \u001b[32m━━━━━━━━━━━━━━━━━━━━\u001b[0m\u001b[37m\u001b[0m \u001b[1m155s\u001b[0m 129ms/step - accuracy: 0.9925 - loss: 0.0227 - val_accuracy: 0.8969 - val_loss: 0.3546\n",
      "Epoch 8/10\n",
      "\u001b[1m1200/1200\u001b[0m \u001b[32m━━━━━━━━━━━━━━━━━━━━\u001b[0m\u001b[37m\u001b[0m \u001b[1m156s\u001b[0m 129ms/step - accuracy: 0.9922 - loss: 0.0208 - val_accuracy: 0.9128 - val_loss: 0.2641\n",
      "Epoch 9/10\n",
      "\u001b[1m1200/1200\u001b[0m \u001b[32m━━━━━━━━━━━━━━━━━━━━\u001b[0m\u001b[37m\u001b[0m \u001b[1m158s\u001b[0m 132ms/step - accuracy: 0.9953 - loss: 0.0158 - val_accuracy: 0.9150 - val_loss: 0.2663\n",
      "Epoch 10/10\n",
      "\u001b[1m1200/1200\u001b[0m \u001b[32m━━━━━━━━━━━━━━━━━━━━\u001b[0m\u001b[37m\u001b[0m \u001b[1m162s\u001b[0m 135ms/step - accuracy: 0.9952 - loss: 0.0160 - val_accuracy: 0.8568 - val_loss: 0.6175\n"
     ]
    }
   ],
   "source": [
    "model = keras.Sequential([\n",
    "    layers.Conv2D(64, (3, 3), activation='relu', input_shape=(64, 64, 3)),\n",
    "    layers.MaxPooling2D((2, 2)),\n",
    "    layers.Conv2D(64, (3, 3), activation='relu'),\n",
    "    layers.MaxPooling2D((2, 2)),\n",
    "    layers.Flatten(),\n",
    "    layers.Dense(64, activation='relu'),\n",
    "    layers.Dense(1, activation='sigmoid')\n",
    "])\n",
    "\n",
    "model.compile(optimizer='adam', loss='binary_crossentropy', metrics=['accuracy'])\n",
    "\n",
    "history = model.fit(train_generator, validation_data=val_generator, epochs=10)\n"
   ]
  },
  {
   "cell_type": "code",
   "execution_count": null,
   "id": "1cbccbb4-1116-4f01-80d9-1d4289d6b210",
   "metadata": {},
   "outputs": [],
   "source": [
    "\n",
    "# ------------------------------\n",
    "# A1 (Lab 05). Visualizing Feature Maps\n",
    "# ------------------------------\n",
    "import numpy as np\n",
    "import matplotlib.pyplot as plt\n",
    "\n",
    "# Ensure the model is called at least once to define inputs\n",
    "dummy_input = np.random.rand(1, 64, 64, 3)  # Adjust shape as needed\n",
    "_ = model.predict(dummy_input)  # Forward pass to initialize layers\n",
    "\n",
    "# Extract the outputs of all convolutional layers\n",
    "layer_outputs = [layer.output for layer in model.layers if isinstance(layer, layers.Conv2D)]\n",
    "\n",
    "# Create the activation model\n",
    "activation_model = keras.models.Model(inputs=model.input, outputs=layer_outputs)\n",
    "# Select a sample image from the training generator and preprocess it\n",
    "sample_img, _ = next(train_generator)\n",
    "sample_img = np.expand_dims(sample_img[0], axis=0)  # Add batch dimension\n",
    "\n",
    "# **Ensure model is explicitly called**\n",
    "_ = model(sample_img)  # This initializes the layers properly\n",
    "\n",
    "# Extract the outputs of all convolutional layers\n",
    "layer_outputs = [layer.output for layer in model.layers if isinstance(layer, layers.Conv2D)]\n",
    "\n",
    "# Create the activation model\n",
    "activation_model = keras.models.Model(inputs=model.input, outputs=layer_outputs)\n",
    "\n",
    "# Get feature maps\n",
    "activations = activation_model.predict(sample_img)\n",
    "\n",
    "# Plot feature maps for each convolutional layer\n",
    "for layer_index, activation in enumerate(activations):\n",
    "    num_filters = activation.shape[-1]  # Number of filters in the layer\n",
    "    fig, axes = plt.subplots(1, min(num_filters, 5), figsize=(15, 5))\n",
    "\n",
    "    for i in range(min(num_filters, 5)):  # Show up to 5 filters\n",
    "        ax = axes[i] if num_filters > 1 else axes\n",
    "        ax.imshow(activation[0, :, :, i], cmap='gray')\n",
    "        ax.set_title(f'Feature Map {i+1}')\n",
    "        ax.axis('off')\n",
    "\n",
    "    plt.show()\n",
    "\n"
   ]
  },
  {
   "cell_type": "code",
   "execution_count": 8,
   "id": "90c7ed47-c348-4db5-9367-4fcd54bbabb7",
   "metadata": {},
   "outputs": [
    {
     "name": "stdout",
     "output_type": "stream",
     "text": [
      "Epoch 1/15\n",
      "\u001b[1m1200/1200\u001b[0m \u001b[32m━━━━━━━━━━━━━━━━━━━━\u001b[0m\u001b[37m\u001b[0m \u001b[1m136s\u001b[0m 110ms/step - accuracy: 0.8700 - loss: 0.2831 - val_accuracy: 0.9236 - val_loss: 0.1807\n",
      "Epoch 2/15\n",
      "\u001b[1m1200/1200\u001b[0m \u001b[32m━━━━━━━━━━━━━━━━━━━━\u001b[0m\u001b[37m\u001b[0m \u001b[1m130s\u001b[0m 108ms/step - accuracy: 0.9771 - loss: 0.0649 - val_accuracy: 0.9008 - val_loss: 0.2413\n",
      "Epoch 3/15\n",
      "\u001b[1m1200/1200\u001b[0m \u001b[32m━━━━━━━━━━━━━━━━━━━━\u001b[0m\u001b[37m\u001b[0m \u001b[1m142s\u001b[0m 108ms/step - accuracy: 0.9872 - loss: 0.0396 - val_accuracy: 0.9256 - val_loss: 0.2124\n",
      "Epoch 4/15\n",
      "\u001b[1m1200/1200\u001b[0m \u001b[32m━━━━━━━━━━━━━━━━━━━━\u001b[0m\u001b[37m\u001b[0m \u001b[1m133s\u001b[0m 110ms/step - accuracy: 0.9906 - loss: 0.0313 - val_accuracy: 0.9314 - val_loss: 0.1902\n",
      "Epoch 5/15\n",
      "\u001b[1m1200/1200\u001b[0m \u001b[32m━━━━━━━━━━━━━━━━━━━━\u001b[0m\u001b[37m\u001b[0m \u001b[1m132s\u001b[0m 110ms/step - accuracy: 0.9905 - loss: 0.0309 - val_accuracy: 0.9239 - val_loss: 0.2289\n",
      "Epoch 6/15\n",
      "\u001b[1m1200/1200\u001b[0m \u001b[32m━━━━━━━━━━━━━━━━━━━━\u001b[0m\u001b[37m\u001b[0m \u001b[1m131s\u001b[0m 108ms/step - accuracy: 0.9928 - loss: 0.0242 - val_accuracy: 0.9490 - val_loss: 0.1478\n",
      "Epoch 7/15\n",
      "\u001b[1m1200/1200\u001b[0m \u001b[32m━━━━━━━━━━━━━━━━━━━━\u001b[0m\u001b[37m\u001b[0m \u001b[1m132s\u001b[0m 110ms/step - accuracy: 0.9928 - loss: 0.0225 - val_accuracy: 0.9152 - val_loss: 0.2593\n",
      "Epoch 8/15\n",
      "\u001b[1m1200/1200\u001b[0m \u001b[32m━━━━━━━━━━━━━━━━━━━━\u001b[0m\u001b[37m\u001b[0m \u001b[1m132s\u001b[0m 109ms/step - accuracy: 0.9934 - loss: 0.0197 - val_accuracy: 0.9530 - val_loss: 0.1627\n",
      "Epoch 9/15\n",
      "\u001b[1m1200/1200\u001b[0m \u001b[32m━━━━━━━━━━━━━━━━━━━━\u001b[0m\u001b[37m\u001b[0m \u001b[1m137s\u001b[0m 114ms/step - accuracy: 0.9955 - loss: 0.0142 - val_accuracy: 0.9278 - val_loss: 0.2424\n",
      "Epoch 10/15\n",
      "\u001b[1m1200/1200\u001b[0m \u001b[32m━━━━━━━━━━━━━━━━━━━━\u001b[0m\u001b[37m\u001b[0m \u001b[1m129s\u001b[0m 108ms/step - accuracy: 0.9953 - loss: 0.0147 - val_accuracy: 0.9112 - val_loss: 0.3011\n",
      "Epoch 11/15\n",
      "\u001b[1m1200/1200\u001b[0m \u001b[32m━━━━━━━━━━━━━━━━━━━━\u001b[0m\u001b[37m\u001b[0m \u001b[1m130s\u001b[0m 108ms/step - accuracy: 0.9956 - loss: 0.0153 - val_accuracy: 0.9304 - val_loss: 0.2288\n",
      "Epoch 12/15\n",
      "\u001b[1m1200/1200\u001b[0m \u001b[32m━━━━━━━━━━━━━━━━━━━━\u001b[0m\u001b[37m\u001b[0m \u001b[1m143s\u001b[0m 109ms/step - accuracy: 0.9959 - loss: 0.0135 - val_accuracy: 0.9189 - val_loss: 0.2642\n",
      "Epoch 13/15\n",
      "\u001b[1m1200/1200\u001b[0m \u001b[32m━━━━━━━━━━━━━━━━━━━━\u001b[0m\u001b[37m\u001b[0m \u001b[1m147s\u001b[0m 113ms/step - accuracy: 0.9962 - loss: 0.0121 - val_accuracy: 0.8999 - val_loss: 0.3509\n",
      "Epoch 14/15\n",
      "\u001b[1m1200/1200\u001b[0m \u001b[32m━━━━━━━━━━━━━━━━━━━━\u001b[0m\u001b[37m\u001b[0m \u001b[1m132s\u001b[0m 109ms/step - accuracy: 0.9957 - loss: 0.0114 - val_accuracy: 0.9027 - val_loss: 0.3581\n",
      "Epoch 15/15\n",
      "\u001b[1m1200/1200\u001b[0m \u001b[32m━━━━━━━━━━━━━━━━━━━━\u001b[0m\u001b[37m\u001b[0m \u001b[1m129s\u001b[0m 108ms/step - accuracy: 0.9961 - loss: 0.0124 - val_accuracy: 0.9302 - val_loss: 0.2424\n",
      "\u001b[1m300/300\u001b[0m \u001b[32m━━━━━━━━━━━━━━━━━━━━\u001b[0m\u001b[37m\u001b[0m \u001b[1m15s\u001b[0m 50ms/step - accuracy: 0.9304 - loss: 0.2344\n",
      "Project Model Validation Accuracy: 93.02%\n"
     ]
    }
   ],
   "source": [
    "# ------------------------------\n",
    "# A7 (Lab 05). Implementing Custom CNN for Project\n",
    "# ------------------------------\n",
    "project_model = keras.Sequential([\n",
    "    layers.Conv2D(32, (3, 3), activation='relu', input_shape=(64, 64, 3)),\n",
    "    layers.MaxPooling2D((2, 2)),\n",
    "    layers.Conv2D(64, (3, 3), activation='relu'),\n",
    "    layers.MaxPooling2D((2, 2)),\n",
    "    layers.Conv2D(128, (3, 3), activation='relu'),\n",
    "    layers.MaxPooling2D((2, 2)),\n",
    "    layers.Flatten(),\n",
    "    layers.Dense(128, activation='relu'),\n",
    "    layers.Dropout(0.5),\n",
    "    layers.Dense(1, activation='sigmoid')\n",
    "])\n",
    "\n",
    "project_model.compile(optimizer='adam', loss='binary_crossentropy', metrics=['accuracy'])\n",
    "\n",
    "history_project = project_model.fit(train_generator, validation_data=val_generator, epochs=15)\n",
    "\n",
    "loss_project, accuracy_project = project_model.evaluate(val_generator)\n",
    "print(f\"Project Model Validation Accuracy: {accuracy_project * 100:.2f}%\")\n"
   ]
  }
 ],
 "metadata": {
  "kernelspec": {
   "display_name": "Python 3 (ipykernel)",
   "language": "python",
   "name": "python3"
  },
  "language_info": {
   "codemirror_mode": {
    "name": "ipython",
    "version": 3
   },
   "file_extension": ".py",
   "mimetype": "text/x-python",
   "name": "python",
   "nbconvert_exporter": "python",
   "pygments_lexer": "ipython3",
   "version": "3.11.7"
  }
 },
 "nbformat": 4,
 "nbformat_minor": 5
}
